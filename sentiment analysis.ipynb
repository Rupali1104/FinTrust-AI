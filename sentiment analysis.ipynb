{
 "cells": [
  {
   "cell_type": "code",
   "execution_count": null,
   "id": "ac080d27-cbe5-435d-9547-6ed4c8874f9a",
   "metadata": {},
   "outputs": [],
   "source": [
    "# Install necessary libraries (run this only once)\n",
    "!pip install spacy textblob\n",
    "!python -m spacy download en_core_web_sm\n",
    "\n",
    "# Import dependencies\n",
    "import spacy\n",
    "from textblob import TextBlob\n",
    "from textblob.download_corpora import download_corpora\n",
    "\n",
    "# Download corpora for TextBlob (run this only once)\n",
    "download_corpora()\n",
    "\n",
    "# Define sentiment analysis function\n",
    "def analyze_sentiment(feedback):\n",
    "    analysis = TextBlob(feedback)\n",
    "    return \"Positive\" if analysis.sentiment.polarity > 0 else \"Negative\"\n",
    "\n",
    "# Main function\n",
    "def main():\n",
    "    # Load Spacy model\n",
    "    nlp = spacy.load(\"en_core_web_sm\")\n",
    "\n",
    "    # Get user input\n",
    "    feedback = input(\"Enter your feedback (max 60 words): \")\n",
    "\n",
    "    # Tokenize and count words\n",
    "    doc = nlp(feedback)\n",
    "    words = [token.text for token in doc]\n",
    "\n",
    "    # Check word limit\n",
    "    if len(words) > 60:\n",
    "        print(\"Error: Feedback exceeds 60 words. Please shorten it.\")\n",
    "    else:\n",
    "        sentiment = analyze_sentiment(feedback)\n",
    "        print(f\"Your feedback is categorized as: {sentiment}\")\n",
    "\n",
    "# Run main function\n",
    "main()\n"
   ]
  },
  {
   "cell_type": "code",
   "execution_count": null,
   "id": "ea8b0010-edfb-4ae9-836d-b22145943e53",
   "metadata": {},
   "outputs": [],
   "source": []
  },
  {
   "cell_type": "code",
   "execution_count": null,
   "id": "230c5548-e637-47b8-87e6-30e17e23044c",
   "metadata": {},
   "outputs": [],
   "source": []
  }
 ],
 "metadata": {
  "kernelspec": {
   "display_name": "Python 3 (ipykernel)",
   "language": "python",
   "name": "python3"
  },
  "language_info": {
   "codemirror_mode": {
    "name": "ipython",
    "version": 3
   },
   "file_extension": ".py",
   "mimetype": "text/x-python",
   "name": "python",
   "nbconvert_exporter": "python",
   "pygments_lexer": "ipython3",
   "version": "3.12.4"
  }
 },
 "nbformat": 4,
 "nbformat_minor": 5
}
